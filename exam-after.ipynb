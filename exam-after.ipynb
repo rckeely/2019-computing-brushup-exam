{
 "cells": [
  {
   "cell_type": "markdown",
   "metadata": {
    "ein.tags": "worksheet-0",
    "slideshow": {
     "slide_type": "-"
    }
   },
   "source": [
    "# Problem 1: Data with R"
   ]
  },
  {
   "cell_type": "code",
   "execution_count": 1,
   "metadata": {
    "autoscroll": false,
    "ein.hycell": false,
    "ein.tags": "worksheet-0",
    "slideshow": {
     "slide_type": "-"
    }
   },
   "outputs": [],
   "source": [
    "%load_ext rpy2.ipython"
   ]
  },
  {
   "cell_type": "code",
   "execution_count": 2,
   "metadata": {
    "autoscroll": false,
    "ein.hycell": false,
    "ein.tags": "worksheet-0",
    "slideshow": {
     "slide_type": "-"
    }
   },
   "outputs": [
    {
     "name": "stderr",
     "output_type": "stream",
     "text": [
      "/opt/conda/lib/python3.7/site-packages/rpy2/rinterface/__init__.py:146: RRuntimeWarning: ── Attaching packages ─────────────────────────────────────── tidyverse 1.2.1 ──\n",
      "\n",
      "  warnings.warn(x, RRuntimeWarning)\n",
      "/opt/conda/lib/python3.7/site-packages/rpy2/rinterface/__init__.py:146: RRuntimeWarning: ✔ ggplot2 3.2.1     ✔ purrr   0.3.2\n",
      "✔ tibble  2.1.3     ✔ dplyr   0.8.3\n",
      "✔ tidyr   0.8.3     ✔ stringr 1.4.0\n",
      "✔ readr   1.3.1     ✔ forcats 0.4.0\n",
      "\n",
      "  warnings.warn(x, RRuntimeWarning)\n",
      "/opt/conda/lib/python3.7/site-packages/rpy2/rinterface/__init__.py:146: RRuntimeWarning: ── Conflicts ────────────────────────────────────────── tidyverse_conflicts() ──\n",
      "✖ dplyr::filter() masks stats::filter()\n",
      "✖ dplyr::lag()    masks stats::lag()\n",
      "\n",
      "  warnings.warn(x, RRuntimeWarning)\n"
     ]
    }
   ],
   "source": [
    "%%R\n",
    "\n",
    "library(tidyverse)"
   ]
  },
  {
   "cell_type": "code",
   "execution_count": 3,
   "metadata": {
    "autoscroll": false,
    "ein.hycell": false,
    "ein.tags": "worksheet-0",
    "slideshow": {
     "slide_type": "-"
    }
   },
   "outputs": [],
   "source": [
    "%%R\n",
    "# make sure to get your data in the same folder, next to the notebook file\n",
    "# so that this will run!\n",
    "\n",
    "dat <- read_csv('classification_data.csv',\n",
    "                col_types = cols(.default = \"d\", label=\"f\"))\n"
   ]
  },
  {
   "cell_type": "code",
   "execution_count": 4,
   "metadata": {
    "autoscroll": false,
    "ein.hycell": false,
    "ein.tags": "worksheet-0",
    "slideshow": {
     "slide_type": "-"
    }
   },
   "outputs": [
    {
     "data": {
      "image/png": "[encoded data removed]"
     },
     "metadata": {},
     "output_type": "display_data"
    }
   ],
   "source": [
    "%%R\n",
    "\n",
    "# Your data consists of an \"X\" column and a \"label\" column\n",
    "# Use ggplot to plot a kernel density estimate of each label (overlayed on the same plot)\n",
    "# hint: Don't forget to make sure the labels are factors!\n",
    "# hint hint: Read the errors carefully! \n",
    "# Read the documentation for parse_factor (readr) if confused!\n",
    "ggplot(dat, aes(X, color=label)) + geom_density()\n"
   ]
  },
  {
   "cell_type": "markdown",
   "metadata": {
    "ein.tags": "worksheet-0",
    "slideshow": {
     "slide_type": "-"
    }
   },
   "source": [
    "# Problem 2: Using Classes in Python\n",
    "\n",
    "In this problem, you will use the classes in the following cell. **You do not need to modify the classes or touch the code in the following cell in any way!**"
   ]
  },
  {
   "cell_type": "code",
   "execution_count": 5,
   "metadata": {
    "autoscroll": false,
    "ein.hycell": false,
    "ein.tags": "worksheet-0",
    "slideshow": {
     "slide_type": "-"
    }
   },
   "outputs": [],
   "source": [
    "from abc import ABC, abstractmethod\n",
    "from math import sqrt\n",
    "\n",
    "def smart_zip(a,b):\n",
    "    try:\n",
    "        return zip(a, b)\n",
    "    except TypeError:\n",
    "        return zip([a], [b])\n",
    "\n",
    "class AbstractKNeighbors(ABC):\n",
    "    def __init__(self, K):\n",
    "        self.K = K\n",
    "\n",
    "    def fit(self, X, y):\n",
    "        \"\"\" Train the model!\n",
    "\n",
    "        X should be a list of data points\n",
    "        y should be a list of labels\n",
    "        \"\"\"\n",
    "        self.X = X\n",
    "        self.y = y\n",
    "        return self\n",
    "\n",
    "    @abstractmethod\n",
    "    def _make_prediction(self, labels):\n",
    "        pass\n",
    "\n",
    "    def predict(self, new_x):\n",
    "        \"\"\"Find the nearest K neighbors\n",
    "        \n",
    "        new_x should be a single data point\n",
    "        \"\"\"\n",
    "\n",
    "        dists = [sqrt(sum(([(i-j)**2 for i,j in smart_zip(x,new_x)])))\n",
    "                 for x in self.X]\n",
    "        sorted_neighbors = sorted(enumerate(dists),\n",
    "                                  key=lambda t: t[1])\n",
    "        labels = [self.y[i] for i,_ in sorted_neighbors]\n",
    "        return self._make_prediction(labels)\n",
    "\n",
    "\n",
    "class KNearestNeighbors(AbstractKNeighbors):\n",
    "    def _make_prediction(self, labels):\n",
    "        avg = sum(labels[:self.K])/self.K\n",
    "        return round(avg)\n",
    "\n",
    "class KFurthestNeighbors(AbstractKNeighbors):\n",
    "    def _make_prediction(self, labels):\n",
    "        avg = sum(labels[-self.K:])/self.K\n",
    "        return round(1 - avg)"
   ]
  },
  {
   "cell_type": "code",
   "execution_count": 6,
   "metadata": {
    "autoscroll": false,
    "ein.hycell": false,
    "ein.tags": "worksheet-0",
    "slideshow": {
     "slide_type": "-"
    }
   },
   "outputs": [],
   "source": [
    "from csv import reader\n",
    "\n",
    "with open('classification_data.csv', 'r') as f:\n",
    "    dat = list(reader(f))[1:]\n",
    "    dat = [[float(x), int(label)] for x,label in dat]"
   ]
  },
  {
   "cell_type": "markdown",
   "metadata": {
    "ein.tags": "worksheet-0",
    "slideshow": {
     "slide_type": "-"
    }
   },
   "source": [
    "## Problem 2.1: Shuffling!"
   ]
  },
  {
   "cell_type": "code",
   "execution_count": 7,
   "metadata": {},
   "outputs": [],
   "source": [
    "import numpy as np\n",
    "import pandas as pd"
   ]
  },
  {
   "cell_type": "code",
   "execution_count": 8,
   "metadata": {},
   "outputs": [],
   "source": [
    "np.random.shuffle(dat)"
   ]
  },
  {
   "cell_type": "code",
   "execution_count": 9,
   "metadata": {
    "autoscroll": false,
    "ein.hycell": false,
    "ein.tags": "worksheet-0",
    "slideshow": {
     "slide_type": "-"
    }
   },
   "outputs": [],
   "source": [
    "# If you shuffled your data, this test should pass\n",
    "# (i.e. not throw an error)\n",
    "\n",
    "assert(sum([label for x,label in dat[:50]]) != 0)"
   ]
  },
  {
   "cell_type": "markdown",
   "metadata": {
    "ein.tags": "worksheet-0",
    "slideshow": {
     "slide_type": "-"
    }
   },
   "source": [
    "## Problem 2.2: Splitting!"
   ]
  },
  {
   "cell_type": "code",
   "execution_count": 10,
   "metadata": {
    "autoscroll": false,
    "ein.hycell": false,
    "ein.tags": "worksheet-0",
    "slideshow": {
     "slide_type": "-"
    }
   },
   "outputs": [
    {
     "name": "stdout",
     "output_type": "stream",
     "text": [
      "700\n",
      "300\n"
     ]
    }
   ],
   "source": [
    "# Split your data, which is now a list, into 2 sublists:\n",
    "# \"train\" and \"test\"\n",
    "# The \"train\" group should have 700 elements\n",
    "# The test group should have 300 elements\n",
    "# Each group should have the same format as the original data\n",
    "\n",
    "train = dat[0:700]\n",
    "test = dat[700:]\n",
    "\n",
    "print(len(train))\n",
    "print(len(test))"
   ]
  },
  {
   "cell_type": "code",
   "execution_count": 11,
   "metadata": {
    "autoscroll": false,
    "ein.hycell": false,
    "ein.tags": "worksheet-0",
    "slideshow": {
     "slide_type": "-"
    }
   },
   "outputs": [],
   "source": [
    "# Now you will need to make another split, within the groups!\n",
    "# For each group (\"train\" and \"test\") split the X's from the labels.\n",
    "\n",
    "train_df = pd.DataFrame(train)\n",
    "train_df.columns = [\"X\", \"label\"]\n",
    "train_X = train_df.X\n",
    "train_label = train_df.label\n",
    "\n",
    "test_df = pd.DataFrame(test)\n",
    "test_df.columns = [\"X\", \"label\"]\n",
    "test_X = test_df.X\n",
    "test_label = test_df.label\n"
   ]
  },
  {
   "cell_type": "markdown",
   "metadata": {
    "ein.tags": "worksheet-0",
    "slideshow": {
     "slide_type": "-"
    }
   },
   "source": [
    "## Problem 2.3: Testing models!"
   ]
  },
  {
   "cell_type": "code",
   "execution_count": 12,
   "metadata": {},
   "outputs": [],
   "source": [
    "import datetime"
   ]
  },
  {
   "cell_type": "code",
   "execution_count": 14,
   "metadata": {
    "autoscroll": false,
    "ein.hycell": false,
    "ein.tags": "worksheet-0",
    "slideshow": {
     "slide_type": "-"
    }
   },
   "outputs": [
    {
     "name": "stdout",
     "output_type": "stream",
     "text": [
      "Iteration 0:\n",
      "K Nearest Neighbors accuracy\t: \t0.666667\n",
      "K Furthest Neighbors accuracy\t: \t0.713333\n",
      "Elapsed time : 0:00:06.255862\n",
      "\n",
      "Iteration 1:\n",
      "K Nearest Neighbors accuracy\t: \t0.666667\n",
      "K Furthest Neighbors accuracy\t: \t0.713333\n",
      "Elapsed time : 0:00:05.503389\n",
      "\n",
      "Iteration 2:\n",
      "K Nearest Neighbors accuracy\t: \t0.666667\n",
      "K Furthest Neighbors accuracy\t: \t0.713333\n",
      "Elapsed time : 0:00:05.521248\n",
      "\n",
      "Iteration 3:\n",
      "K Nearest Neighbors accuracy\t: \t0.666667\n",
      "K Furthest Neighbors accuracy\t: \t0.713333\n",
      "Elapsed time : 0:00:05.509021\n",
      "\n",
      "Iteration 4:\n",
      "K Nearest Neighbors accuracy\t: \t0.666667\n",
      "K Furthest Neighbors accuracy\t: \t0.713333\n",
      "Elapsed time : 0:00:05.513908\n",
      "\n",
      "Iteration 5:\n",
      "K Nearest Neighbors accuracy\t: \t0.666667\n",
      "K Furthest Neighbors accuracy\t: \t0.713333\n",
      "Elapsed time : 0:00:05.536924\n",
      "\n",
      "Iteration 6:\n",
      "K Nearest Neighbors accuracy\t: \t0.666667\n",
      "K Furthest Neighbors accuracy\t: \t0.713333\n",
      "Elapsed time : 0:00:06.063876\n",
      "\n",
      "Iteration 7:\n",
      "K Nearest Neighbors accuracy\t: \t0.666667\n",
      "K Furthest Neighbors accuracy\t: \t0.713333\n",
      "Elapsed time : 0:00:06.833052\n",
      "\n",
      "Iteration 8:\n",
      "K Nearest Neighbors accuracy\t: \t0.666667\n",
      "K Furthest Neighbors accuracy\t: \t0.713333\n",
      "Elapsed time : 0:00:05.668925\n",
      "\n",
      "Iteration 9:\n",
      "K Nearest Neighbors accuracy\t: \t0.666667\n",
      "K Furthest Neighbors accuracy\t: \t0.713333\n",
      "Elapsed time : 0:00:05.487463\n",
      "\n",
      "Average time : 0:00:05.789367\n"
     ]
    }
   ],
   "source": [
    "# For each model: \n",
    "# 1. Create an instance the class, with constructor parameters: K=5\n",
    "# 2. Train the instance on the \"train\" groups X's and labels (y's)\n",
    "# 3. Test how well the instance does: \n",
    "#    A. Use the trained instance to predict the label of each \"X\" in the \"test\" group\n",
    "#    B. Use your \"test\" labels to see if the predicted label is equal the true label\n",
    "\n",
    "time_list = list()\n",
    "iterations = 10\n",
    "for i in range(0,iterations):\n",
    "    print(f\"Iteration {i}:\")\n",
    "    start_time = datetime.datetime.now()\n",
    "    model_KNN = KNearestNeighbors(5)\n",
    "    model_KNN.fit(train_X, train_label)\n",
    "    sum_test = 0\n",
    "    for idx, point in enumerate(test_X):\n",
    "        if test_label[idx] == model_KNN.predict(point):\n",
    "            sum_test += 1\n",
    "    print(f\"K Nearest Neighbors accuracy\\t: \\t{sum_test/len(test_X):.6f}\")\n",
    "\n",
    "    model_KFN = KFurthestNeighbors(5)\n",
    "    model_KFN.fit(train_X, train_label)\n",
    "    sum_test = 0\n",
    "    for idx, point in enumerate(test_X):\n",
    "        if test_label[idx] == model_KFN.predict(point):\n",
    "            sum_test += 1\n",
    "    print(f\"K Furthest Neighbors accuracy\\t: \\t{sum_test/len(test_X):.6f}\")\n",
    "\n",
    "    elapsed_time = datetime.datetime.now() - start_time\n",
    "    time_list.append(elapsed_time)\n",
    "    print(f\"Elapsed time : {elapsed_time}\\n\")\n",
    "print(f\"Average time : {np.mean(time_list)}\")\n"
   ]
  },
  {
   "cell_type": "code",
   "execution_count": 15,
   "metadata": {},
   "outputs": [
    {
     "name": "stdout",
     "output_type": "stream",
     "text": [
      "Iteration 0:\n",
      "K Nearest Neighbors accuracy\t: \t0.666667\n",
      "K Furthest Neighbors accuracy\t: \t0.713333\n",
      "Elapsed time : 0:00:07.092282\n",
      "\n",
      "Iteration 1:\n",
      "K Nearest Neighbors accuracy\t: \t0.666667\n",
      "K Furthest Neighbors accuracy\t: \t0.713333\n",
      "Elapsed time : 0:00:06.221807\n",
      "\n",
      "Iteration 2:\n",
      "K Nearest Neighbors accuracy\t: \t0.666667\n",
      "K Furthest Neighbors accuracy\t: \t0.713333\n",
      "Elapsed time : 0:00:06.155322\n",
      "\n",
      "Iteration 3:\n",
      "K Nearest Neighbors accuracy\t: \t0.666667\n",
      "K Furthest Neighbors accuracy\t: \t0.713333\n",
      "Elapsed time : 0:00:05.987343\n",
      "\n",
      "Iteration 4:\n",
      "K Nearest Neighbors accuracy\t: \t0.666667\n",
      "K Furthest Neighbors accuracy\t: \t0.713333\n",
      "Elapsed time : 0:00:06.159377\n",
      "\n",
      "Iteration 5:\n",
      "K Nearest Neighbors accuracy\t: \t0.666667\n",
      "K Furthest Neighbors accuracy\t: \t0.713333\n",
      "Elapsed time : 0:00:05.927045\n",
      "\n",
      "Iteration 6:\n",
      "K Nearest Neighbors accuracy\t: \t0.666667\n",
      "K Furthest Neighbors accuracy\t: \t0.713333\n",
      "Elapsed time : 0:00:06.024202\n",
      "\n",
      "Iteration 7:\n",
      "K Nearest Neighbors accuracy\t: \t0.666667\n",
      "K Furthest Neighbors accuracy\t: \t0.713333\n",
      "Elapsed time : 0:00:06.181451\n",
      "\n",
      "Iteration 8:\n",
      "K Nearest Neighbors accuracy\t: \t0.666667\n",
      "K Furthest Neighbors accuracy\t: \t0.713333\n",
      "Elapsed time : 0:00:06.095524\n",
      "\n",
      "Iteration 9:\n",
      "K Nearest Neighbors accuracy\t: \t0.666667\n",
      "K Furthest Neighbors accuracy\t: \t0.713333\n",
      "Elapsed time : 0:00:06.325649\n",
      "\n",
      "Average time : 0:00:06.217000\n"
     ]
    }
   ],
   "source": [
    "time_list = list()\n",
    "iterations = 10\n",
    "for i in range(0,iterations):\n",
    "    print(f\"Iteration {i}:\")\n",
    "    start_time = datetime.datetime.now()\n",
    "\n",
    "    # Vector driven approach using Pandas dataframes\n",
    "    model_KNN = KNearestNeighbors(5)\n",
    "    model_KNN.fit(train_X, train_label)\n",
    "    test_df[\"knn_res\"] = test_df.X.apply(model_KNN.predict)\n",
    "    knn_res = ((test_df[\"knn_res\"] == test_df.label).sum()) / test_df.X.shape[0]\n",
    "    print(f\"K Nearest Neighbors accuracy\\t: \\t{knn_res:.6f}\")\n",
    "\n",
    "    model_KFN = KFurthestNeighbors(5)\n",
    "    model_KFN.fit(train_X, train_label)\n",
    "    test_df[\"kfn_res\"] = test_df.X.apply(model_KFN.predict)\n",
    "    kfn_res = ((test_df[\"kfn_res\"] == test_df.label).sum()) / test_df.X.shape[0]\n",
    "    print(f\"K Furthest Neighbors accuracy\\t: \\t{kfn_res:.6f}\")\n",
    "    #sum_result = test_df.apply(model_KNN.predict).sum()/test_df.X.shape[0]\n",
    "    elapsed_time = datetime.datetime.now() - start_time\n",
    "    time_list.append(elapsed_time)\n",
    "    print(f\"Elapsed time : {elapsed_time}\\n\")\n",
    "print(f\"Average time : {np.mean(time_list)}\")"
   ]
  },
  {
   "cell_type": "code",
   "execution_count": 16,
   "metadata": {
    "autoscroll": false,
    "ein.hycell": false,
    "ein.tags": "worksheet-0",
    "slideshow": {
     "slide_type": "-"
    }
   },
   "outputs": [],
   "source": [
    "# Compare the two classes of models!\n",
    "# Depending on the shuffle, the two different algorithms yield different results. Further inverstiagtion\n",
    "# would be require to determine which in practice is better, though I imagine they are largely comparable.\n",
    "# I expect k may also play a part.\n",
    "\n",
    "# Interestingly, the vector driven approach appeared slightly slower than the iterations \n",
    "# when I did a simply check of the two though this could be explained by processor load."
   ]
  },
  {
   "cell_type": "code",
   "execution_count": 21,
   "metadata": {},
   "outputs": [],
   "source": [
    "import random"
   ]
  },
  {
   "cell_type": "code",
   "execution_count": 25,
   "metadata": {},
   "outputs": [],
   "source": [
    "\n",
    "\n",
    "with open('classification_data.csv', 'r') as f:\n",
    "    dat2 = list(reader(f))[1:]\n",
    "    dat2 = [[float(x), int(label)] for x,label in dat]"
   ]
  },
  {
   "cell_type": "code",
   "execution_count": 26,
   "metadata": {},
   "outputs": [],
   "source": []
  },
  {
   "cell_type": "code",
   "execution_count": 29,
   "metadata": {},
   "outputs": [
    {
     "name": "stdout",
     "output_type": "stream",
     "text": [
      "Iteration 0:\n",
      "K Nearest Neighbors accuracy\t: \t0.670000\n",
      "K Furthest Neighbors accuracy\t: \t0.650000\n",
      "Elapsed time : 0:00:05.804613\n",
      "\n",
      "Iteration 1:\n",
      "K Nearest Neighbors accuracy\t: \t0.650000\n",
      "K Furthest Neighbors accuracy\t: \t0.676667\n",
      "Elapsed time : 0:00:05.647499\n",
      "\n",
      "Average time : 0:00:06.193383\n"
     ]
    }
   ],
   "source": [
    "for iteration in range(0,2):\n",
    "    print(f\"Iteration {iteration}:\")\n",
    "    start_time = datetime.datetime.now()\n",
    "    \n",
    "    dat_shuffle = random.sample(dat2, len(dat2))\n",
    "    \n",
    "    train = dat_shuffle[0:700]\n",
    "    test = dat_shuffle[700:]\n",
    "    \n",
    "    train_df = pd.DataFrame(train)\n",
    "    train_df.columns = [\"X\", \"label\"]\n",
    "    train_X = train_df.X\n",
    "    train_label = train_df.label\n",
    "\n",
    "    test_df = pd.DataFrame(test)\n",
    "    test_df.columns = [\"X\", \"label\"]\n",
    "    test_X = test_df.X\n",
    "    test_label = test_df.label\n",
    "    \n",
    "    # Vector driven approach using Pandas dataframes\n",
    "    model_KNN = KNearestNeighbors(5)\n",
    "    model_KNN.fit(train_X, train_label)\n",
    "    test_df[\"knn_res\"] = test_df.X.apply(model_KNN.predict)\n",
    "    knn_res = ((test_df[\"knn_res\"] == test_df.label).sum()) / test_df.X.shape[0]\n",
    "    print(f\"K Nearest Neighbors accuracy\\t: \\t{knn_res:.6f}\")\n",
    "\n",
    "    model_KFN = KFurthestNeighbors(5)\n",
    "    model_KFN.fit(train_X, train_label)\n",
    "    test_df[\"kfn_res\"] = test_df.X.apply(model_KFN.predict)\n",
    "    kfn_res = ((test_df[\"kfn_res\"] == test_df.label).sum()) / test_df.X.shape[0]\n",
    "    print(f\"K Furthest Neighbors accuracy\\t: \\t{kfn_res:.6f}\")\n",
    "    #sum_result = test_df.apply(model_KNN.predict).sum()/test_df.X.shape[0]\n",
    "    elapsed_time = datetime.datetime.now() - start_time\n",
    "    time_list.append(elapsed_time)\n",
    "    print(f\"Elapsed time : {elapsed_time}\\n\")\n",
    "print(f\"Average time : {np.mean(time_list)}\")\n"
   ]
  },
  {
   "cell_type": "code",
   "execution_count": null,
   "metadata": {},
   "outputs": [],
   "source": []
  }
 ],
 "metadata": {
  "kernelspec": {
   "display_name": "Python 3",
   "language": "python",
   "name": "python3"
  },
  "language_info": {
   "codemirror_mode": {
    "name": "ipython",
    "version": 3
   },
   "file_extension": ".py",
   "mimetype": "text/x-python",
   "name": "python",
   "nbconvert_exporter": "python",
   "pygments_lexer": "ipython3",
   "version": "3.7.3"
  },
  "name": "exam-after.ipynb"
 },
 "nbformat": 4,
 "nbformat_minor": 2
}
